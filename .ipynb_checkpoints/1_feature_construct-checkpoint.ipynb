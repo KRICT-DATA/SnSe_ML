{
 "cells": [
  {
   "cell_type": "code",
   "execution_count": 5,
   "metadata": {},
   "outputs": [],
   "source": [
    "def define_category(composition):\n",
    "        \n",
    "    category1=0\n",
    "    if composition[4] == 11:\n",
    "        category1 = 1\n",
    "    elif composition[4] == 17:\n",
    "        category1 = 2\n",
    "\n",
    "\n",
    "    composition.append(category1)\n",
    "    \n",
    "    return composition\n",
    "\n"
   ]
  },
  {
   "cell_type": "code",
   "execution_count": 6,
   "metadata": {
    "scrolled": true
   },
   "outputs": [
    {
     "name": "stdout",
     "output_type": "stream",
     "text": [
      "Automatically created module for IPython interactive environment\n"
     ]
    }
   ],
   "source": [
    "print(__doc__)\n",
    "\n",
    "# Author: Yea-Lee Lee <yealee.lee@gmail.com>\n",
    "#\n",
    "\n",
    "import csv\n",
    "import numpy as np\n",
    "import matplotlib.pyplot as plt\n",
    "import pandas as pd\n",
    "import pickle\n",
    "\n",
    "import math\n",
    "import sys\n",
    "import scipy.signal\n",
    "\n",
    "\n",
    "\n",
    "from feature import construct_feature\n",
    "from elements import ELEMENTS\n",
    "from myfunction import my_range\n",
    "\n",
    "\n",
    "\n",
    "# load calculation data \n",
    "cal =pd.read_excel('./inputdata/Results_Summary_Final.xlsx',index_col=0)\n",
    "calnum=np.zeros((cal.shape[0],cal.shape[1]))\n",
    "calnum = cal.values\n",
    "\n",
    "\n",
    "measureset=['electrical_conductivity','seebeck_coeff','thermal_conductivity']\n",
    "\n",
    "#total list of features\n",
    "column=['id','direction','temp',\\\n",
    "          'vbm_e','vbm_e2','vbm_e3',\\\n",
    "          'cbm_e','cbm_e2','cbm_e3','magnetism','deep_level',\\\n",
    "          'vbm_org_1', 'vbm_org_2','vbm_org_3','cbm_org_1','cbm_org_2','cbm_org_3',\\\n",
    "          'vbm_m','vbm_m2','vbm_m3','cbm_m','cbm_m2','cbm_m3',\\\n",
    "          'vbm_e_sn','vbm_e2_sn','vbm_e3_sn','cbm_e_sn','cbm_e2_sn','cbm_e3_sn',\\\n",
    "          'vbm_e_se','vbm_e2_se','vbm_e3_se','cbm_e_se','cbm_e2_se','cbm_e3_se',\\\n",
    "          'vbm_m_sn', 'vbm_m2_sn','vbm_m3_sn','cbm_m_sn','cbm_m2_sn','cbm_m3_sn',\\\n",
    "          'vbm_m_se', 'vbm_m2_se','vbm_m3_se','cbm_m_se','cbm_m2_se','cbm_m3_se',\\\n",
    "        'bandgap','bandgap_sn', 'bandgap_se', 'bandgap_rate',\\\n",
    "          'ion','covalent','vdw','atomic_radius','pauling_en','en_allen','polarizability','melting_point',\\\n",
    "          'boiling_point','density','specific_heat','thermal_conductivity',\\\n",
    "        'Sn_ratio','Se_ratio','Na_ratio','Cl_ratio','dopant_num', 'dopant_ratio','K']  \n",
    "\n",
    "features=['vbm_e','vbm_e2','vbm_e3',\\\n",
    "          'cbm_e','cbm_e2','cbm_e3','magnetism','deep_level',\\\n",
    "          'vbm_org_1', 'vbm_org_2','vbm_org_3','cbm_org_1','cbm_org_2','cbm_org_3',\\\n",
    "          'vbm_m','vbm_m2','vbm_m3','cbm_m','cbm_m2','cbm_m3',\\\n",
    "        'vbm_e_sn','vbm_e2_sn','vbm_e3_sn','cbm_e_sn','cbm_e2_sn','cbm_e3_sn',\\\n",
    "          'vbm_e_se','vbm_e2_se','vbm_e3_se','cbm_e_se','cbm_e2_se','cbm_e3_se',\\\n",
    "          'vbm_m_sn', 'vbm_m2_sn','vbm_m3_sn','cbm_m_sn','cbm_m2_sn','cbm_m3_sn',\\\n",
    "          'vbm_m_se', 'vbm_m2_se','vbm_m3_se','cbm_m_se','cbm_m2_se','cbm_m3_se',\\\n",
    "          'vbm_ordering','cbm_ordering', 'vbm_org_ordering','cbm_org_ordering',\\\n",
    "          'vbm_sn_ordering','cbm_sn_ordering','vbm_se_ordering','cbm_se_ordering',\\\n",
    "          'bandgap','bandgap_sn', 'bandgap_se', 'bandgap_rate',\\\n",
    "          'ion','covalent','vdw','atomic_radius','pauling_en','en_allen','polarizability','melting_point',\\\n",
    "          'boiling_point','density','specific_heat','thermal_conductivity']"
   ]
  },
  {
   "cell_type": "code",
   "execution_count": 7,
   "metadata": {},
   "outputs": [
    {
     "name": "stdout",
     "output_type": "stream",
     "text": [
      "electrical_conductivity\n",
      "write complete electrical_conductivity\n",
      "seebeck_coeff\n",
      "write complete seebeck_coeff\n",
      "thermal_conductivity\n",
      "write complete thermal_conductivity\n"
     ]
    }
   ],
   "source": [
    "\n",
    "       \n",
    "for measure in measureset:\n",
    "    \n",
    "    \n",
    "    \n",
    "    print(measure)\n",
    "\n",
    "\n",
    "    # Load data\n",
    "\n",
    "    filename='./inputdata/'+str(measure) + \".csv\"\n",
    "    traindf = pd.read_csv(filename, index_col=0) \n",
    "            \n",
    "    # construct features, targets\n",
    "    filename_training = './inputdata_feature/training_features_' + str(measure) +'.csv'\n",
    "        \n",
    "    trainin = construct_feature(traindf,calnum,features, True)\n",
    "    output=pd.DataFrame(trainin)\n",
    "    output.columns=column\n",
    "    output.to_csv(filename_training)\n",
    "    print('write complete', measure)\n",
    "        \n",
    "        \n"
   ]
  },
  {
   "cell_type": "code",
   "execution_count": 8,
   "metadata": {},
   "outputs": [],
   "source": [
    "#ZT features\n",
    "\n",
    "thermo  = pd.read_csv('./inputdata/zt_dataset.csv', index_col=0)\n",
    "\n",
    "test_data_x = construct_feature(thermo,calnum,features, True)\n",
    "output=pd.DataFrame(test_data_x)\n",
    "output.columns=column\n",
    "output.to_csv('./inputdata_feature/zt_test_features.csv')\n"
   ]
  },
  {
   "cell_type": "code",
   "execution_count": null,
   "metadata": {},
   "outputs": [],
   "source": []
  }
 ],
 "metadata": {
  "kernelspec": {
   "display_name": "Python 3",
   "language": "python",
   "name": "python3"
  },
  "language_info": {
   "codemirror_mode": {
    "name": "ipython",
    "version": 3
   },
   "file_extension": ".py",
   "mimetype": "text/x-python",
   "name": "python",
   "nbconvert_exporter": "python",
   "pygments_lexer": "ipython3",
   "version": "3.8.8"
  }
 },
 "nbformat": 4,
 "nbformat_minor": 2
}
